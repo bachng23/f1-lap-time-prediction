{
 "cells": [
  {
   "cell_type": "code",
   "id": "initial_id",
   "metadata": {
    "collapsed": true,
    "ExecuteTime": {
     "end_time": "2025-10-14T18:14:34.017057Z",
     "start_time": "2025-10-14T18:14:32.248427Z"
    }
   },
   "source": [
    "import pandas as pd\n",
    "from pathlib import Path\n",
    "\n",
    "data_directory = Path('../data')\n",
    "\n",
    "file_qualifying = data_directory / 'qualifying_results_2018_to_2025.csv'\n",
    "file_races = data_directory / 'race_results_2018_to_2025.csv'\n",
    "file_practice = data_directory / 'practice_laps_2018_to_2025.csv'\n",
    "file_weather = data_directory / 'weather_data_2018_to_2025.csv'\n",
    "file_schedule = data_directory / 'schedule_data_2018_to_2025.csv'\n",
    "try:\n",
    "    df_qualifying = pd.read_csv(file_qualifying)\n",
    "    df_races = pd.read_csv(file_races)\n",
    "    df_practice = pd.read_csv(file_practice, low_memory=False)\n",
    "    df_weather = pd.read_csv(file_weather)\n",
    "    df_schedule = pd.read_csv(file_schedule)\n",
    "    print(\"Tất cả các file đã được tải thành công! ✅\")\n",
    "\n",
    "except FileNotFoundError as e:\n",
    "    print(f\"Lỗi: Không tìm thấy file tại '{e.filename}'. Vui lòng kiểm tra lại tên file và đường dẫn.\")"
   ],
   "outputs": [
    {
     "name": "stdout",
     "output_type": "stream",
     "text": [
      "Tất cả các file đã được tải thành công! ✅\n"
     ]
    }
   ],
   "execution_count": 1
  },
  {
   "metadata": {
    "ExecuteTime": {
     "end_time": "2025-10-14T18:14:34.039781Z",
     "start_time": "2025-10-14T18:14:34.026050Z"
    }
   },
   "cell_type": "code",
   "source": [
    "df_weather_processed = df_weather[['Year', 'RaceName', 'Rainfall']].copy()\n",
    "\n",
    "# Chuyển đổi cột 'Rainfall' thành dạng số (True=1, False=0)\n",
    "df_weather_processed['Rainfall'] = df_weather_processed['Rainfall'].astype(int)\n",
    "\n",
    "# Tổng hợp: Nếu có bất kỳ thời điểm nào ghi nhận có mưa (Rainfall > 0) trong suốt cuộc đua,\n",
    "# chúng ta sẽ đánh dấu cả cuộc đua đó là \"Có Mưa\".\n",
    "df_weather_agg = df_weather_processed.groupby(['Year', 'RaceName'])['Rainfall'].max().reset_index()\n",
    "\n",
    "print(\"Xử lý thời tiết hoàn tất. Dữ liệu sau khi tổng hợp:\")\n",
    "print(df_weather_agg.head())"
   ],
   "id": "f3db3f74f11ddbf5",
   "outputs": [
    {
     "name": "stdout",
     "output_type": "stream",
     "text": [
      "Xử lý thời tiết hoàn tất. Dữ liệu sau khi tổng hợp:\n",
      "   Year               RaceName  Rainfall\n",
      "0  2018   Abu Dhabi Grand Prix         1\n",
      "1  2018  Australian Grand Prix         1\n",
      "2  2018    Austrian Grand Prix         0\n",
      "3  2018  Azerbaijan Grand Prix         0\n",
      "4  2018     Bahrain Grand Prix         0\n"
     ]
    }
   ],
   "execution_count": 2
  },
  {
   "metadata": {
    "ExecuteTime": {
     "end_time": "2025-10-14T18:14:35.001150Z",
     "start_time": "2025-10-14T18:14:34.048222Z"
    }
   },
   "cell_type": "code",
   "source": [
    "# --- Xử lý dữ liệu đua thử (phiên bản đã lọc các tay đua dự bị) ---\n",
    "\n",
    "# 1. TẠO DANH SÁCH TAY ĐUA CHÍNH THỨC TỪ DF_RACES\n",
    "# Danh sách này sẽ được dùng làm bộ lọc\n",
    "official_drivers = df_races[['Year', 'RaceName', 'DriverNumber']].drop_duplicates()\n",
    "\n",
    "# 2. CHUẨN BỊ DỮ LIỆU ĐUA THỬ\n",
    "df_practice['LapTime_seconds'] = pd.to_timedelta(df_practice['LapTime'], errors='coerce').dt.total_seconds()\n",
    "df_practice_valid = df_practice.dropna(subset=['LapTime_seconds'])\n",
    "\n",
    "# 3. LỌC DỮ LIỆU ĐUA THỬ ĐỂ CHỈ GIỮ LẠI TAY ĐUA CHÍNH THỨC\n",
    "# Dùng 'inner' merge để loại bỏ các tay đua dự bị không có trong 'official_drivers'\n",
    "df_practice_filtered = pd.merge(df_practice_valid, official_drivers, on=['Year', 'RaceName', 'DriverNumber'], how='inner')\n",
    "\n",
    "# 4. TỔNG HỢP DỮ LIỆU TRÊN BỘ DỮ LIỆU ĐÃ LỌC\n",
    "practice_agg_dict = {\n",
    "    'LapTime_seconds': ['median', 'min', 'std']\n",
    "}\n",
    "df_practice_agg = df_practice_filtered.groupby(['Year', 'RaceName', 'DriverNumber']).agg(practice_agg_dict).reset_index()\n",
    "\n",
    "# 5. ĐỔI TÊN CỘT\n",
    "df_practice_agg.columns = ['Year', 'RaceName', 'DriverNumber', 'PracticeMedianLapTime', 'PracticeFastestLapTime', 'PracticeLapTimeStdDev']\n",
    "\n",
    "print(\"✅ Xử lý dữ liệu đua thử (đã lọc) thành công!\")\n",
    "print(df_practice_agg.head())"
   ],
   "id": "7ac7c015d55d105f",
   "outputs": [
    {
     "name": "stdout",
     "output_type": "stream",
     "text": [
      "✅ Xử lý dữ liệu đua thử (đã lọc) thành công!\n",
      "   Year              RaceName  DriverNumber  PracticeMedianLapTime  \\\n",
      "0  2018  Abu Dhabi Grand Prix             2               113.9500   \n",
      "1  2018  Abu Dhabi Grand Prix             3               104.0840   \n",
      "2  2018  Abu Dhabi Grand Prix             5               105.3075   \n",
      "3  2018  Abu Dhabi Grand Prix             7               104.7635   \n",
      "4  2018  Abu Dhabi Grand Prix             8               106.5530   \n",
      "\n",
      "   PracticeFastestLapTime  PracticeLapTimeStdDev  \n",
      "0                  99.938              17.829566  \n",
      "1                  97.428              13.274270  \n",
      "2                  97.569              17.608850  \n",
      "3                  97.461              15.311805  \n",
      "4                  98.060              14.798264  \n"
     ]
    }
   ],
   "execution_count": 3
  },
  {
   "metadata": {
    "ExecuteTime": {
     "end_time": "2025-10-14T18:14:35.154415Z",
     "start_time": "2025-10-14T18:14:35.143359Z"
    }
   },
   "cell_type": "code",
   "source": [
    "columns_to_keep = [\n",
    "    'Year',\n",
    "    'RaceName',\n",
    "    'DriverNumber',\n",
    "    'TeamName',\n",
    "    'GridPosition', # Lấy vị trí xuất phát chính thức từ đây [cite: 51, 52]\n",
    "    'Position',      # Đây là vị trí về đích (target) [cite: 51]\n",
    "    'Points'\n",
    "]\n",
    "\n",
    "# 2. Tạo DataFrame đã hợp nhất và đổi tên cột mục tiêu cho rõ ràng.\n",
    "df_merged = df_races[columns_to_keep].copy()\n",
    "df_merged.rename(columns={'Position': 'FinalPosition'}, inplace=True)\n",
    "\n",
    "# 3. Loại bỏ các cuộc đua không có thông tin GridPosition hợp lệ (ví dụ: các phiên Sprint Shootout)\n",
    "df_merged.dropna(subset=['GridPosition'], inplace=True)\n",
    "\n",
    "# 4. Chuyển đổi GridPosition sang kiểu số nguyên\n",
    "df_merged['GridPosition'] = df_merged['GridPosition'].astype(int)\n",
    "\n",
    "\n",
    "print(\"Xây dựng DataFrame nền tảng thành công!\")\n",
    "print(f\"Kích thước của DataFrame sau bước này: {df_merged.shape}\")\n",
    "print(\"\\n5 hàng đầu của DataFrame nền tảng:\")\n",
    "print(df_merged.head())"
   ],
   "id": "e94bb625079daabb",
   "outputs": [
    {
     "name": "stdout",
     "output_type": "stream",
     "text": [
      "Xây dựng DataFrame nền tảng thành công!\n",
      "Kích thước của DataFrame sau bước này: (3335, 7)\n",
      "\n",
      "5 hàng đầu của DataFrame nền tảng:\n",
      "   Year               RaceName  DriverNumber         TeamName  GridPosition  \\\n",
      "0  2018  Australian Grand Prix             5          Ferrari             3   \n",
      "1  2018  Australian Grand Prix            44         Mercedes             1   \n",
      "2  2018  Australian Grand Prix             7          Ferrari             2   \n",
      "3  2018  Australian Grand Prix             3  Red Bull Racing             8   \n",
      "4  2018  Australian Grand Prix            14          McLaren            10   \n",
      "\n",
      "   FinalPosition  Points  \n",
      "0            1.0    25.0  \n",
      "1            2.0    18.0  \n",
      "2            3.0    15.0  \n",
      "3            4.0    12.0  \n",
      "4            5.0    10.0  \n"
     ]
    }
   ],
   "execution_count": 4
  },
  {
   "metadata": {
    "ExecuteTime": {
     "end_time": "2025-10-14T18:14:35.197869Z",
     "start_time": "2025-10-14T18:14:35.181776Z"
    }
   },
   "cell_type": "code",
   "source": [
    "df_merged = pd.merge(df_merged, df_schedule, on=['Year', 'RaceName'], how='left')\n",
    "# Chuyển cột 'EventDate' sang định dạng datetime để sắp xếp chính xác\n",
    "df_merged['EventDate'] = pd.to_datetime(df_merged['EventDate'])\n",
    "\n",
    "# Sắp xếp DataFrame theo Năm, sau đó theo Ngày diễn ra cuộc đua\n",
    "df_merged = df_merged.sort_values(by=['Year', 'EventDate'])\n",
    "\n",
    "# Reset lại index của DataFrame cho gọn gàng\n",
    "df_merged.reset_index(drop=True, inplace=True)\n",
    "\n",
    "print(\"\\nDữ liệu cuối cùng sau khi đã sắp xếp:\")\n",
    "print(df_merged.head())"
   ],
   "id": "bc7ad9a762894d6f",
   "outputs": [
    {
     "name": "stdout",
     "output_type": "stream",
     "text": [
      "\n",
      "Dữ liệu cuối cùng sau khi đã sắp xếp:\n",
      "   Year               RaceName  DriverNumber         TeamName  GridPosition  \\\n",
      "0  2018  Australian Grand Prix             5          Ferrari             3   \n",
      "1  2018  Australian Grand Prix            44         Mercedes             1   \n",
      "2  2018  Australian Grand Prix             7          Ferrari             2   \n",
      "3  2018  Australian Grand Prix             3  Red Bull Racing             8   \n",
      "4  2018  Australian Grand Prix            14          McLaren            10   \n",
      "\n",
      "   FinalPosition  Points  RoundNumber  EventDate  \n",
      "0            1.0    25.0            1 2018-03-25  \n",
      "1            2.0    18.0            1 2018-03-25  \n",
      "2            3.0    15.0            1 2018-03-25  \n",
      "3            4.0    12.0            1 2018-03-25  \n",
      "4            5.0    10.0            1 2018-03-25  \n"
     ]
    }
   ],
   "execution_count": 5
  },
  {
   "metadata": {
    "ExecuteTime": {
     "end_time": "2025-10-14T18:14:35.817460Z",
     "start_time": "2025-10-14T18:14:35.225599Z"
    }
   },
   "cell_type": "code",
   "source": [
    "# --- TẠO FEATURE CHAMPIONSHIP STANDINGS (PHIÊN BẢN CUỐI CÙNG) ---\n",
    "\n",
    "# Đảm bảo DataFrame đã được sắp xếp\n",
    "df_merged.sort_values(by=['Year', 'RoundNumber'], inplace=True)\n",
    "df_merged.reset_index(drop=True, inplace=True)\n",
    "\n",
    "# Khởi tạo các cột mới\n",
    "df_merged['DriverPoints_BeforeRace'] = 0\n",
    "df_merged['ConstructorPoints_BeforeRace'] = 0\n",
    "\n",
    "print(\"Bắt đầu tính toán điểm số (phiên bản cuối cùng)...\")\n",
    "\n",
    "# Lặp qua từng mùa giải\n",
    "for year in df_merged['Year'].unique():\n",
    "    # Reset điểm số ở đầu mỗi mùa giải\n",
    "    season_driver_points = {}\n",
    "    season_constructor_points = {}\n",
    "\n",
    "    # Lặp qua từng chặng đua trong mùa giải đó\n",
    "    for round_num in df_merged[df_merged['Year'] == year]['RoundNumber'].unique():\n",
    "\n",
    "        # --- BƯỚC 1: GÁN ĐIỂM SỐ CỦA CHẶNG TRƯỚC ---\n",
    "        # Lấy index của tất cả các tay đua trong chặng hiện tại\n",
    "        current_race_indices = df_merged[(df_merged['Year'] == year) & (df_merged['RoundNumber'] == round_num)].index\n",
    "\n",
    "        # Với mỗi tay đua, gán điểm số đã được tính từ các chặng TRƯỚC ĐÓ\n",
    "        for index in current_race_indices:\n",
    "            driver = df_merged.at[index, 'DriverNumber']\n",
    "            team = df_merged.at[index, 'TeamName']\n",
    "\n",
    "            df_merged.at[index, 'DriverPoints_BeforeRace'] = season_driver_points.get(driver, 0)\n",
    "            df_merged.at[index, 'ConstructorPoints_BeforeRace'] = season_constructor_points.get(team, 0)\n",
    "\n",
    "        # --- BƯỚC 2: CẬP NHẬT ĐIỂM SỐ CHO CHẶNG TIẾP THEO ---\n",
    "        # Lấy kết quả của chặng hiện tại để cộng dồn điểm\n",
    "        current_race_results = df_merged.loc[current_race_indices]\n",
    "\n",
    "        for index, row in current_race_results.iterrows():\n",
    "            driver = row['DriverNumber']\n",
    "            team = row['TeamName']\n",
    "            points_earned = row['Points']\n",
    "\n",
    "            season_driver_points[driver] = season_driver_points.get(driver, 0) + points_earned\n",
    "            season_constructor_points[team] = season_constructor_points.get(team, 0) + points_earned\n",
    "\n",
    "# --- Chuyển đổi từ điểm số sang thứ hạng (Rank) ---\n",
    "df_merged['DriverChampionshipStanding'] = df_merged.groupby('Year')['DriverPoints_BeforeRace'].rank(method='dense', ascending=False)\n",
    "df_merged['ConstructorChampionshipStanding'] = df_merged.groupby('Year')['ConstructorPoints_BeforeRace'].rank(method='dense', ascending=False)\n",
    "\n",
    "\n",
    "print(\"✅ Hoàn thành! Các feature về thứ hạng đã được tạo lại chính xác.\")\n",
    "\n",
    "# In ra kết quả để kiểm tra lại chặng đầu tiên của một mùa giải\n",
    "print(\"\\nKiểm tra kết quả chặng đầu tiên của mùa giải 2019:\")\n",
    "check_df = df_merged[(df_merged['RaceName'] == 'Australian Grand Prix') & (df_merged['Year'] == 2019)]\n",
    "print(check_df[['DriverNumber', 'TeamName', 'Points', 'DriverPoints_BeforeRace', 'ConstructorPoints_BeforeRace']])"
   ],
   "id": "c7b8f6d66210f7c2",
   "outputs": [
    {
     "name": "stdout",
     "output_type": "stream",
     "text": [
      "Bắt đầu tính toán điểm số (phiên bản cuối cùng)...\n"
     ]
    },
    {
     "name": "stderr",
     "output_type": "stream",
     "text": [
      "C:\\Users\\bachng\\AppData\\Local\\Temp\\ipykernel_9424\\252801876.py:31: FutureWarning: Setting an item of incompatible dtype is deprecated and will raise an error in a future version of pandas. Value '196.5' has dtype incompatible with int64, please explicitly cast to a compatible dtype first.\n",
      "  df_merged.at[index, 'DriverPoints_BeforeRace'] = season_driver_points.get(driver, 0)\n",
      "C:\\Users\\bachng\\AppData\\Local\\Temp\\ipykernel_9424\\252801876.py:32: FutureWarning: Setting an item of incompatible dtype is deprecated and will raise an error in a future version of pandas. Value '300.5' has dtype incompatible with int64, please explicitly cast to a compatible dtype first.\n",
      "  df_merged.at[index, 'ConstructorPoints_BeforeRace'] = season_constructor_points.get(team, 0)\n"
     ]
    },
    {
     "name": "stdout",
     "output_type": "stream",
     "text": [
      "✅ Hoàn thành! Các feature về thứ hạng đã được tạo lại chính xác.\n",
      "\n",
      "Kiểm tra kết quả chặng đầu tiên của mùa giải 2019:\n",
      "     DriverNumber           TeamName  Points  DriverPoints_BeforeRace  \\\n",
      "420            77           Mercedes    26.0                      0.0   \n",
      "421            44           Mercedes    18.0                      0.0   \n",
      "422            33    Red Bull Racing    15.0                      0.0   \n",
      "423             5            Ferrari    12.0                      0.0   \n",
      "424            16            Ferrari    10.0                      0.0   \n",
      "425            20       Haas F1 Team     8.0                      0.0   \n",
      "426            27            Renault     6.0                      0.0   \n",
      "427             7  Alfa Romeo Racing     4.0                      0.0   \n",
      "428            18       Racing Point     2.0                      0.0   \n",
      "429            26         Toro Rosso     1.0                      0.0   \n",
      "430            10    Red Bull Racing     0.0                      0.0   \n",
      "431             4            McLaren     0.0                      0.0   \n",
      "432            11       Racing Point     0.0                      0.0   \n",
      "433            23         Toro Rosso     0.0                      0.0   \n",
      "434            99  Alfa Romeo Racing     0.0                      0.0   \n",
      "435            63           Williams     0.0                      0.0   \n",
      "436            88           Williams     0.0                      0.0   \n",
      "437             8       Haas F1 Team     0.0                      0.0   \n",
      "438             3            Renault     0.0                      0.0   \n",
      "439            55            McLaren     0.0                      0.0   \n",
      "\n",
      "     ConstructorPoints_BeforeRace  \n",
      "420                           0.0  \n",
      "421                           0.0  \n",
      "422                           0.0  \n",
      "423                           0.0  \n",
      "424                           0.0  \n",
      "425                           0.0  \n",
      "426                           0.0  \n",
      "427                           0.0  \n",
      "428                           0.0  \n",
      "429                           0.0  \n",
      "430                           0.0  \n",
      "431                           0.0  \n",
      "432                           0.0  \n",
      "433                           0.0  \n",
      "434                           0.0  \n",
      "435                           0.0  \n",
      "436                           0.0  \n",
      "437                           0.0  \n",
      "438                           0.0  \n",
      "439                           0.0  \n"
     ]
    }
   ],
   "execution_count": 6
  },
  {
   "metadata": {
    "ExecuteTime": {
     "end_time": "2025-10-14T18:14:35.843104Z",
     "start_time": "2025-10-14T18:14:35.831062Z"
    }
   },
   "cell_type": "code",
   "source": [
    "print(\"\\nThêm dữ liệu đua thử đã xử lý...\")\n",
    "# Merge với dữ liệu đua thử đã tổng hợp\n",
    "df_merged = pd.merge(df_merged, df_practice_agg, on=['Year', 'RaceName', 'DriverNumber'], how='left')\n",
    "print(f\"Kích thước sau khi merge lần 2: {df_merged.shape}\")\n",
    "\n",
    "\n",
    "print(\"\\nThêm dữ liệu thời tiết đã xử lý...\")\n",
    "# Merge với dữ liệu thời tiết đã tổng hợp\n",
    "df_merged = pd.merge(df_merged, df_weather_agg, on=['Year', 'RaceName'], how='left')\n",
    "print(f\"Kích thước sau khi merge lần 3: {df_merged.shape}\")"
   ],
   "id": "dd35688b7222a1b1",
   "outputs": [
    {
     "name": "stdout",
     "output_type": "stream",
     "text": [
      "\n",
      "Thêm dữ liệu đua thử đã xử lý...\n",
      "Kích thước sau khi merge lần 2: (3335, 16)\n",
      "\n",
      "Thêm dữ liệu thời tiết đã xử lý...\n",
      "Kích thước sau khi merge lần 3: (3335, 17)\n"
     ]
    }
   ],
   "execution_count": 7
  },
  {
   "metadata": {
    "ExecuteTime": {
     "end_time": "2025-10-14T18:14:35.884348Z",
     "start_time": "2025-10-14T18:14:35.874398Z"
    }
   },
   "cell_type": "code",
   "source": [
    "df_form = df_races[['Year', 'RaceName', 'DriverNumber', 'Position', 'Points']].copy()\n",
    "\n",
    "df_form['AvgPositionLast5'] = df_form.groupby('DriverNumber')['Position'].shift(1).rolling(window=5, min_periods=1).mean()\n",
    "df_form['AvgPointsLast5'] = df_form.groupby('DriverNumber')['Points'].shift(1).rolling(window=5, min_periods=1).mean()\n",
    "df_form['PodiumsLast5'] = (df_form.groupby('DriverNumber')['Position'].shift(1) <= 3).rolling(window=5, min_periods=1).sum()\n",
    "\n",
    "# Lấy các cột feature mới để merge sau này\n",
    "features_form = df_form[['Year', 'RaceName', 'DriverNumber', 'AvgPositionLast5', 'AvgPointsLast5', 'PodiumsLast5']]"
   ],
   "id": "e21e166b579e682",
   "outputs": [],
   "execution_count": 8
  },
  {
   "metadata": {
    "ExecuteTime": {
     "end_time": "2025-10-14T18:14:35.930322Z",
     "start_time": "2025-10-14T18:14:35.893557Z"
    }
   },
   "cell_type": "code",
   "source": [
    "df_quali_analysis = df_qualifying.copy()\n",
    "\n",
    "# 1. Xác định thời gian phân hạng cuối cùng (Q3 > Q2 > Q1)\n",
    "df_quali_analysis['FinalQTime'] = df_quali_analysis['Q3'].fillna(df_quali_analysis['Q2']).fillna(df_quali_analysis['Q1'])\n",
    "\n",
    "# 2. Chuyển đổi thời gian sang giây, xử lý lỗi nếu có\n",
    "df_quali_analysis['FinalQTime_sec'] = pd.to_timedelta(df_quali_analysis['FinalQTime'], errors='coerce').dt.total_seconds()\n",
    "\n",
    "# 3. Tìm thời gian pole (thời gian nhanh nhất) cho mỗi cuộc đua\n",
    "pole_times = df_quali_analysis.groupby(['Year', 'RaceName'])['FinalQTime_sec'].min().reset_index()\n",
    "pole_times.rename(columns={'FinalQTime_sec': 'PoleTime_sec'}, inplace=True)\n",
    "\n",
    "# 4. Ghép thông tin thời gian pole trở lại vào bảng chính\n",
    "df_quali_analysis = pd.merge(df_quali_analysis, pole_times, on=['Year', 'RaceName'], how='left')\n",
    "\n",
    "# 5. Tính toán feature 'GapToPole'\n",
    "df_quali_analysis['GapToPole'] = df_quali_analysis['FinalQTime_sec'] - df_quali_analysis['PoleTime_sec']\n",
    "\n",
    "print(\"✅ Tạo feature GapToPole thành công!\")\n",
    "\n",
    "# Lấy các cột feature mới để merge sau này\n",
    "features_quali = df_quali_analysis[['Year', 'RaceName', 'DriverNumber', 'GapToPole']]\n",
    "\n",
    "df_merged = pd.merge(df_merged, features_form, on=['Year', 'RaceName', 'DriverNumber'], how='left')\n",
    "\n",
    "df_merged = pd.merge(df_merged, features_quali, on=['Year', 'RaceName', 'DriverNumber'], how='left')\n"
   ],
   "id": "c380622cf3522e80",
   "outputs": [
    {
     "name": "stdout",
     "output_type": "stream",
     "text": [
      "✅ Tạo feature GapToPole thành công!\n"
     ]
    }
   ],
   "execution_count": 9
  },
  {
   "metadata": {
    "ExecuteTime": {
     "end_time": "2025-10-14T18:14:35.949474Z",
     "start_time": "2025-10-14T18:14:35.944588Z"
    }
   },
   "cell_type": "code",
   "source": [
    "# Tính giá trị trung bình của GapToPole (bỏ qua các giá trị NaN)\n",
    "avg_gap_to_pole = df_merged['GapToPole'].mean()\n",
    "\n",
    "# Điền giá trị trung bình vào những chỗ bị thiếu\n",
    "df_merged['GapToPole'] = df_merged['GapToPole'].fillna(avg_gap_to_pole)\n",
    "\n",
    "print(\"✅ Đã xử lý NaN cho cột GapToPole.\")"
   ],
   "id": "4a8b23b771e821a3",
   "outputs": [
    {
     "name": "stdout",
     "output_type": "stream",
     "text": [
      "✅ Đã xử lý NaN cho cột GapToPole.\n"
     ]
    }
   ],
   "execution_count": 10
  },
  {
   "metadata": {
    "ExecuteTime": {
     "end_time": "2025-10-14T18:14:35.987788Z",
     "start_time": "2025-10-14T18:14:35.976428Z"
    }
   },
   "cell_type": "code",
   "source": [
    "# --- KIỂM TRA LẠI CODE TRACKTYPE ---\n",
    "\n",
    "# Code tạo mapping và merge của bạn (đã chính xác)\n",
    "track_mapping = {\n",
    "    'Australian Grand Prix': 'Balanced', 'Bahrain Grand Prix': 'Power',\n",
    "    'Chinese Grand Prix': 'Balanced', 'Azerbaijan Grand Prix': 'Power',\n",
    "    'Spanish Grand Prix': 'Balanced', 'Monaco Grand Prix': 'Technical',\n",
    "    'Canadian Grand Prix': 'Power', 'French Grand Prix': 'Balanced',\n",
    "    'Austrian Grand Prix': 'Power', 'British Grand Prix': 'Balanced',\n",
    "    'German Grand Prix': 'Balanced', 'Hungarian Grand Prix': 'Technical',\n",
    "    'Belgian Grand Prix': 'Power', 'Italian Grand Prix': 'Power',\n",
    "    'Singapore Grand Prix': 'Technical', 'Russian Grand Prix': 'Balanced',\n",
    "    'Japanese Grand Prix': 'Balanced', 'Mexican Grand Prix': 'Power',\n",
    "    'United States Grand Prix': 'Balanced', 'Brazilian Grand Prix': 'Balanced',\n",
    "    'Abu Dhabi Grand Prix': 'Balanced', 'Dutch Grand Prix': 'Technical',\n",
    "    'Saudi Arabian Grand Prix': 'Power', 'Miami Grand Prix': 'Power',\n",
    "    'Las Vegas Grand Prix': 'Power',\n",
    "    'Styrian Grand Prix': 'Power',              # Cùng đường đua với Austrian GP (Red Bull Ring)\n",
    "    '70th Anniversary Grand Prix': 'Balanced', # Cùng đường đua với British GP (Silverstone)\n",
    "    'Tuscan Grand Prix': 'Balanced',           # Đường đua Mugello\n",
    "    'Eifel Grand Prix': 'Balanced',            # Đường đua Nürburgring\n",
    "    'Portuguese Grand Prix': 'Balanced',       # Đường đua Portimão\n",
    "    'Emilia Romagna Grand Prix': 'Balanced',   # Đường đua Imola\n",
    "    'Turkish Grand Prix': 'Balanced',          # Đường đua Istanbul Park\n",
    "    'Sakhir Grand Prix': 'Power',              # Đường đua Bahrain \"Outer Circuit\"\n",
    "    'Mexico City Grand Prix': 'Power',         # Tên mới của Mexican GP\n",
    "    'São Paulo Grand Prix': 'Balanced',        # Tên mới của Brazilian GP\n",
    "    'Qatar Grand Prix': 'Balanced'\n",
    "}\n",
    "df_track_type = pd.DataFrame(list(track_mapping.items()), columns=['RaceName', 'TrackType'])\n",
    "df_track_type_encoded = pd.get_dummies(df_track_type, columns=['TrackType'], prefix='Track')\n",
    "\n",
    "df_merged = pd.merge(df_merged, df_track_type_encoded, on='RaceName', how='left')\n",
    "\n",
    "print(\"✅ Chuyển đổi feature 'TrackType' thành các cột số thành công.\")"
   ],
   "id": "724e53a0e275a93f",
   "outputs": [
    {
     "name": "stdout",
     "output_type": "stream",
     "text": [
      "✅ Chuyển đổi feature 'TrackType' thành các cột số thành công.\n"
     ]
    }
   ],
   "execution_count": 11
  },
  {
   "metadata": {
    "ExecuteTime": {
     "end_time": "2025-10-14T18:14:36.491710Z",
     "start_time": "2025-10-14T18:14:36.015319Z"
    }
   },
   "cell_type": "code",
   "source": [
    "df_track_history = df_races[['Year', 'RaceName', 'DriverNumber', 'Position']].copy()\n",
    "\n",
    "# Tính vị trí trung bình lịch sử\n",
    "avg_pos_series = df_track_history.groupby(['RaceName', 'DriverNumber'])['Position'].apply(\n",
    "    lambda x: x.shift(1).expanding(min_periods=1).mean()\n",
    ")\n",
    "\n",
    "# Tính tổng số podium lịch sử\n",
    "podiums_series = df_track_history.groupby(['RaceName', 'DriverNumber'])['Position'].apply(\n",
    "    lambda x: (x.shift(1) <= 3).expanding(min_periods=1).sum()\n",
    ")\n",
    "# Gán kết quả trở lại DataFrame\n",
    "# Chúng ta cần reset_index để có thể gán lại một cách chính xác\n",
    "df_track_history['AvgPositionAtTrack'] = avg_pos_series.reset_index(level=[0,1], drop=True)\n",
    "df_track_history['PodiumsAtTrack'] = podiums_series.reset_index(level=[0,1], drop=True)\n",
    "\n",
    "\n",
    "print(\"✅ Tạo feature thành tích lịch sử thành công!\")\n",
    "\n",
    "# --- Phần hợp nhất và xử lý NaN (giữ nguyên vì logic đã đúng) ---\n",
    "features_track_history = df_track_history[['Year', 'RaceName', 'DriverNumber', 'AvgPositionAtTrack', 'PodiumsAtTrack']]\n",
    "df_merged = pd.merge(df_merged, features_track_history, on=['Year', 'RaceName', 'DriverNumber'], how='left')\n",
    "\n",
    "avg_pos_fill_value = df_merged['FinalPosition'].mean()\n",
    "df_merged['AvgPositionAtTrack'] = df_merged['AvgPositionAtTrack'].fillna(avg_pos_fill_value)\n",
    "df_merged['PodiumsAtTrack'] = df_merged['PodiumsAtTrack'].fillna(0)\n",
    "\n",
    "print(\"✅ Hợp nhất và xử lý NaN thành công!\")"
   ],
   "id": "52777fee27355fd4",
   "outputs": [
    {
     "name": "stdout",
     "output_type": "stream",
     "text": [
      "✅ Tạo feature thành tích lịch sử thành công!\n",
      "✅ Hợp nhất và xử lý NaN thành công!\n"
     ]
    }
   ],
   "execution_count": 12
  },
  {
   "metadata": {
    "ExecuteTime": {
     "end_time": "2025-10-14T18:14:36.503119Z",
     "start_time": "2025-10-14T18:14:36.498538Z"
    }
   },
   "cell_type": "code",
   "source": [
    "cols_to_fill_zero = [\n",
    "    'AvgPointsLast5',\n",
    "    'AvgPositionLast5'\n",
    "]\n",
    "for col in cols_to_fill_zero:\n",
    "    df_merged[col] = df_merged[col].fillna(0)"
   ],
   "id": "4527c0f62ab39d57",
   "outputs": [],
   "execution_count": 13
  },
  {
   "metadata": {
    "ExecuteTime": {
     "end_time": "2025-10-14T18:14:36.592380Z",
     "start_time": "2025-10-14T18:14:36.538997Z"
    }
   },
   "cell_type": "code",
   "source": [
    "\n",
    "output_filename = '../data/processed/final_master_df.csv'\n",
    "\n",
    "# Sử dụng .to_csv() để lưu DataFrame\n",
    "# index=False là rất quan trọng để không lưu cột chỉ mục (0, 1, 2...) của pandas vào file\n",
    "df_merged.to_csv(output_filename, index=False)\n",
    "\n",
    "# In ra một thông báo xác nhận để bạn biết quá trình đã hoàn tất\n",
    "print(f\"🎉 DataFrame cuối cùng đã được lưu thành công vào file '{output_filename}'!\")"
   ],
   "id": "c518515c61f6a5df",
   "outputs": [
    {
     "name": "stdout",
     "output_type": "stream",
     "text": [
      "🎉 DataFrame cuối cùng đã được lưu thành công vào file '../data/processed/final_master_df.csv'!\n"
     ]
    }
   ],
   "execution_count": 14
  }
 ],
 "metadata": {
  "kernelspec": {
   "display_name": "Python 3",
   "language": "python",
   "name": "python3"
  },
  "language_info": {
   "codemirror_mode": {
    "name": "ipython",
    "version": 2
   },
   "file_extension": ".py",
   "mimetype": "text/x-python",
   "name": "python",
   "nbconvert_exporter": "python",
   "pygments_lexer": "ipython2",
   "version": "2.7.6"
  }
 },
 "nbformat": 4,
 "nbformat_minor": 5
}
