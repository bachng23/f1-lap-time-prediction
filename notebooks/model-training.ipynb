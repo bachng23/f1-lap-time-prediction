{
 "cells": [
  {
   "cell_type": "code",
   "id": "initial_id",
   "metadata": {
    "collapsed": true,
    "ExecuteTime": {
     "end_time": "2025-10-15T03:28:49.776717Z",
     "start_time": "2025-10-15T03:28:48.728007Z"
    }
   },
   "source": [
    "import pandas as pd\n",
    "from pathlib import Path\n",
    "from xgboost import XGBRegressor\n",
    "from sklearn.metrics import mean_absolute_error\n",
    "\n",
    "data_directory = Path('../data/processed')\n",
    "try:\n",
    "    df_final = pd.read_csv(data_directory / 'final_master_dataset_for_prediction.csv')\n",
    "    print(\"✅ Tải dữ liệu đã xử lý thành công!\")\n",
    "    print(f\"Kích thước dữ liệu: {df_final.shape}\")\n",
    "except FileNotFoundError as e:\n",
    "    print(f\"Lỗi: Không tìm thấy file {e.filename}. Vui lòng chạy notebook data-exploration trước.\")\n",
    "    exit()"
   ],
   "outputs": [
    {
     "name": "stdout",
     "output_type": "stream",
     "text": [
      "✅ Tải dữ liệu đã xử lý thành công!\n",
      "Kích thước dữ liệu: (3335, 26)\n"
     ]
    }
   ],
   "execution_count": 1
  },
  {
   "cell_type": "code",
   "id": "e52e233216e4bae4",
   "metadata": {
    "ExecuteTime": {
     "end_time": "2025-10-15T03:28:49.797391Z",
     "start_time": "2025-10-15T03:28:49.783921Z"
    }
   },
   "source": [
    "if 'TeamName' in df_final.columns:\n",
    "    df_final = pd.get_dummies(df_final, columns=['TeamName'], prefix='Team')\n",
    "\n",
    "# --- 2. Tách Features (X) và Target (y) ---\n",
    "# Xác định cột mục tiêu (target)\n",
    "TARGET = 'FinalPosition'\n",
    "\n",
    "COLS_TO_DROP = [\n",
    "    TARGET,\n",
    "    'Year',\n",
    "    'RaceName',\n",
    "    'DriverNumber',\n",
    "    'EventDate',\n",
    "    'Points'\n",
    "]\n",
    "\n",
    "# Tạo X bằng cách loại bỏ các cột không cần thiết\n",
    "# Dùng errors='ignore' để code không bị lỗi nếu một cột trong list không tồn tại\n",
    "X = df_final.drop(columns=COLS_TO_DROP, errors='ignore')\n",
    "\n",
    "# Tạo y từ cột target\n",
    "y = df_final[TARGET]\n",
    "\n",
    "# --- 3. Phân chia dữ liệu theo thời gian ---\n",
    "# Xác định năm cuối cùng làm dữ liệu kiểm tra (test)\n",
    "test_year = df_final['Year'].max()\n",
    "print(f\"Năm được chọn làm bộ dữ liệu test: {int(test_year)}\")\n",
    "\n",
    "# Tạo điều kiện lọc (boolean mask) cho tập train và test\n",
    "train_mask = (df_final['Year'] < test_year)\n",
    "test_mask = (df_final['Year'] == test_year)\n",
    "\n",
    "# Áp dụng điều kiện lọc để tạo các tập dữ liệu\n",
    "X_train, X_test = X[train_mask], X[test_mask]\n",
    "y_train, y_test = y[train_mask], y[test_mask]\n",
    "\n",
    "\n",
    "print(f\"Huấn luyện trên {X_train.shape[0]} mẫu, bao gồm {X_train.shape[1]} features.\")\n",
    "print(f\"Kiểm tra trên {X_test.shape[0]} mẫu, bao gồm {X_test.shape[1]} features.\")"
   ],
   "outputs": [
    {
     "name": "stdout",
     "output_type": "stream",
     "text": [
      "Năm được chọn làm bộ dữ liệu test: 2025\n",
      "Huấn luyện trên 2976 mẫu, bao gồm 38 features.\n",
      "Kiểm tra trên 359 mẫu, bao gồm 38 features.\n"
     ]
    }
   ],
   "execution_count": 2
  },
  {
   "cell_type": "code",
   "id": "6d4e67c7f56aea13",
   "metadata": {
    "ExecuteTime": {
     "end_time": "2025-10-15T04:13:20.569633Z",
     "start_time": "2025-10-15T04:13:20.023559Z"
    }
   },
   "source": [
    "model = XGBRegressor(\n",
    "    objective='reg:squarederror',\n",
    "    n_estimators=1000,\n",
    "    learning_rate=0.05,\n",
    "    max_depth=7,\n",
    "    early_stopping_rounds=50,\n",
    "    random_state=42\n",
    ")\n",
    "\n",
    "model.fit(X_train, y_train, eval_set=[(X_test, y_test)], verbose=False)\n",
    "\n",
    "predictions = model.predict(X_test)\n",
    "mae = mean_absolute_error(y_test, predictions)\n",
    "print(f\"Sai số dự đoán trung bình (MAE): {mae:.2f} vị trí\")"
   ],
   "outputs": [
    {
     "name": "stdout",
     "output_type": "stream",
     "text": [
      "Sai số dự đoán trung bình (MAE): 2.41 vị trí\n"
     ]
    }
   ],
   "execution_count": 10
  }
 ],
 "metadata": {
  "kernelspec": {
   "display_name": ".venv",
   "language": "python",
   "name": "python3"
  },
  "language_info": {
   "codemirror_mode": {
    "name": "ipython",
    "version": 3
   },
   "file_extension": ".py",
   "mimetype": "text/x-python",
   "name": "python",
   "nbconvert_exporter": "python",
   "pygments_lexer": "ipython3",
   "version": "3.13.7"
  }
 },
 "nbformat": 4,
 "nbformat_minor": 5
}
